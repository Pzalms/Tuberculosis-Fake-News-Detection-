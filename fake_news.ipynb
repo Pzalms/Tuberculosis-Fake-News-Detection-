{
 "cells": [
  {
   "cell_type": "code",
   "execution_count": 6,
   "id": "e3095530-3b01-4ba4-8c76-fe66f4184d50",
   "metadata": {
    "executionInfo": {
     "elapsed": 941,
     "status": "ok",
     "timestamp": 1639762154046,
     "user": {
      "displayName": "Omoyeni Kemisola",
      "photoUrl": "https://lh3.googleusercontent.com/a/default-user=s64",
      "userId": "14565427243972290298"
     },
     "user_tz": -60
    },
    "id": "e3095530-3b01-4ba4-8c76-fe66f4184d50"
   },
   "outputs": [],
   "source": [
    "import matplotlib.pyplot as plt\n",
    "import numpy as np\n",
    "import pandas as pd\n",
    "import re\n",
    "from nltk.corpus import stopwords\n",
    "from nltk.stem.porter import PorterStemmer\n",
    "from sklearn.feature_extraction.text import TfidfVectorizer\n",
    "from sklearn.model_selection import train_test_split, cross_val_score, GridSearchCV\n",
    "from sklearn.linear_model import LogisticRegression\n",
    "from sklearn.tree import DecisionTreeClassifier\n",
    "from sklearn.ensemble import RandomForestClassifier\n",
    "from sklearn.neighbors import KNeighborsClassifier\n",
    "from sklearn.svm import SVC\n",
    "from sklearn.naive_bayes import GaussianNB\n",
    "from sklearn.metrics import accuracy_score, classification_report, confusion_matrix, ConfusionMatrixDisplay\n",
    "\n",
    "import joblib"
   ]
  },
  {
   "cell_type": "code",
   "execution_count": 7,
   "id": "214a54eb-e1c9-40c2-bf56-405cefaccc61",
   "metadata": {
    "colab": {
     "base_uri": "https://localhost:8080/"
    },
    "executionInfo": {
     "elapsed": 866,
     "status": "ok",
     "timestamp": 1639762155454,
     "user": {
      "displayName": "Omoyeni Kemisola",
      "photoUrl": "https://lh3.googleusercontent.com/a/default-user=s64",
      "userId": "14565427243972290298"
     },
     "user_tz": -60
    },
    "id": "214a54eb-e1c9-40c2-bf56-405cefaccc61",
    "outputId": "9e654056-b896-434d-b979-e897c305a46f"
   },
   "outputs": [
    {
     "name": "stderr",
     "output_type": "stream",
     "text": [
      "[nltk_data] Downloading package stopwords to /home/david/nltk_data...\n",
      "[nltk_data]   Package stopwords is already up-to-date!\n"
     ]
    },
    {
     "data": {
      "text/plain": [
       "True"
      ]
     },
     "execution_count": 7,
     "metadata": {},
     "output_type": "execute_result"
    }
   ],
   "source": [
    "import nltk\n",
    "nltk.download(\"stopwords\")\n"
   ]
  },
  {
   "cell_type": "markdown",
   "id": "4a93caf7-c76b-4e4c-9a56-68ae1814f23f",
   "metadata": {
    "id": "4a93caf7-c76b-4e4c-9a56-68ae1814f23f"
   },
   "source": [
    "### Data Preprocessing\n"
   ]
  },
  {
   "cell_type": "code",
   "execution_count": 8,
   "id": "6c062b2e-5e7d-4d4d-8ab5-6c1bad343c69",
   "metadata": {
    "colab": {
     "base_uri": "https://localhost:8080/",
     "height": 397
    },
    "executionInfo": {
     "elapsed": 181,
     "status": "error",
     "timestamp": 1639762155543,
     "user": {
      "displayName": "Omoyeni Kemisola",
      "photoUrl": "https://lh3.googleusercontent.com/a/default-user=s64",
      "userId": "14565427243972290298"
     },
     "user_tz": -60
    },
    "id": "6c062b2e-5e7d-4d4d-8ab5-6c1bad343c69",
    "outputId": "dccd5902-ed68-4e98-84f5-08cdcdc46221"
   },
   "outputs": [],
   "source": [
    "#loading the dataset to a pandas dataFrame\n",
    "news_dataset = pd.read_csv('TB.csv', index_col='ID')"
   ]
  },
  {
   "cell_type": "code",
   "execution_count": 9,
   "id": "27545f8c-a8e2-4252-9662-7f532e90d45c",
   "metadata": {
    "executionInfo": {
     "elapsed": 92,
     "status": "aborted",
     "timestamp": 1639762155459,
     "user": {
      "displayName": "Omoyeni Kemisola",
      "photoUrl": "https://lh3.googleusercontent.com/a/default-user=s64",
      "userId": "14565427243972290298"
     },
     "user_tz": -60
    },
    "id": "27545f8c-a8e2-4252-9662-7f532e90d45c"
   },
   "outputs": [
    {
     "data": {
      "text/plain": [
       "(16989, 3)"
      ]
     },
     "execution_count": 9,
     "metadata": {},
     "output_type": "execute_result"
    }
   ],
   "source": [
    "news_dataset.shape"
   ]
  },
  {
   "cell_type": "code",
   "execution_count": 10,
   "id": "419ad360-7980-4b15-9d55-d2018f0a63a0",
   "metadata": {
    "executionInfo": {
     "elapsed": 93,
     "status": "aborted",
     "timestamp": 1639762155460,
     "user": {
      "displayName": "Omoyeni Kemisola",
      "photoUrl": "https://lh3.googleusercontent.com/a/default-user=s64",
      "userId": "14565427243972290298"
     },
     "user_tz": -60
    },
    "id": "419ad360-7980-4b15-9d55-d2018f0a63a0"
   },
   "outputs": [
    {
     "data": {
      "text/html": [
       "<div>\n",
       "<style scoped>\n",
       "    .dataframe tbody tr th:only-of-type {\n",
       "        vertical-align: middle;\n",
       "    }\n",
       "\n",
       "    .dataframe tbody tr th {\n",
       "        vertical-align: top;\n",
       "    }\n",
       "\n",
       "    .dataframe thead th {\n",
       "        text-align: right;\n",
       "    }\n",
       "</style>\n",
       "<table border=\"1\" class=\"dataframe\">\n",
       "  <thead>\n",
       "    <tr style=\"text-align: right;\">\n",
       "      <th></th>\n",
       "      <th>text</th>\n",
       "      <th>outcome</th>\n",
       "      <th>label</th>\n",
       "    </tr>\n",
       "    <tr>\n",
       "      <th>ID</th>\n",
       "      <th></th>\n",
       "      <th></th>\n",
       "      <th></th>\n",
       "    </tr>\n",
       "  </thead>\n",
       "  <tbody>\n",
       "    <tr>\n",
       "      <th>1</th>\n",
       "      <td>A post claims compulsory vacination violates t...</td>\n",
       "      <td>fake</td>\n",
       "      <td>1</td>\n",
       "    </tr>\n",
       "    <tr>\n",
       "      <th>2</th>\n",
       "      <td>A photo claims that this person is a doctor wh...</td>\n",
       "      <td>fake</td>\n",
       "      <td>1</td>\n",
       "    </tr>\n",
       "    <tr>\n",
       "      <th>3</th>\n",
       "      <td>Post about a video claims that it is a protest...</td>\n",
       "      <td>fake</td>\n",
       "      <td>1</td>\n",
       "    </tr>\n",
       "    <tr>\n",
       "      <th>4</th>\n",
       "      <td>All deaths by respiratory failure and pneumoni...</td>\n",
       "      <td>fake</td>\n",
       "      <td>1</td>\n",
       "    </tr>\n",
       "    <tr>\n",
       "      <th>5</th>\n",
       "      <td>The dean of the College of Biologists of Euska...</td>\n",
       "      <td>fake</td>\n",
       "      <td>1</td>\n",
       "    </tr>\n",
       "  </tbody>\n",
       "</table>\n",
       "</div>"
      ],
      "text/plain": [
       "                                                 text outcome  label\n",
       "ID                                                                  \n",
       "1   A post claims compulsory vacination violates t...    fake      1\n",
       "2   A photo claims that this person is a doctor wh...    fake      1\n",
       "3   Post about a video claims that it is a protest...    fake      1\n",
       "4   All deaths by respiratory failure and pneumoni...    fake      1\n",
       "5   The dean of the College of Biologists of Euska...    fake      1"
      ]
     },
     "execution_count": 10,
     "metadata": {},
     "output_type": "execute_result"
    }
   ],
   "source": [
    "#print the first five rows of the dataframe\n",
    "news_dataset.head()"
   ]
  },
  {
   "cell_type": "code",
   "execution_count": 11,
   "id": "2a54e995-7714-400e-9e56-1947150dde78",
   "metadata": {
    "executionInfo": {
     "elapsed": 98,
     "status": "aborted",
     "timestamp": 1639762155468,
     "user": {
      "displayName": "Omoyeni Kemisola",
      "photoUrl": "https://lh3.googleusercontent.com/a/default-user=s64",
      "userId": "14565427243972290298"
     },
     "user_tz": -60
    },
    "id": "2a54e995-7714-400e-9e56-1947150dde78"
   },
   "outputs": [
    {
     "data": {
      "text/plain": [
       "text       0\n",
       "outcome    0\n",
       "label      0\n",
       "dtype: int64"
      ]
     },
     "execution_count": 11,
     "metadata": {},
     "output_type": "execute_result"
    }
   ],
   "source": [
    "news_dataset.isnull().sum()"
   ]
  },
  {
   "cell_type": "code",
   "execution_count": 12,
   "id": "e778732b-9f62-434c-aa0d-1b24a6b71d05",
   "metadata": {},
   "outputs": [
    {
     "data": {
      "image/png": "[encoded data removed]",
      "text/plain": [
       "<Figure size 640x480 with 1 Axes>"
      ]
     },
     "metadata": {},
     "output_type": "display_data"
    }
   ],
   "source": [
    "news_dataset['outcome'].value_counts(normalize=True).plot(kind='bar')\n",
    "plt.ylabel('Frequency', fontweight = 'bold')\n",
    "plt.savefig('label.jpeg', dpi=1200);"
   ]
  },
  {
   "cell_type": "code",
   "execution_count": 13,
   "id": "19f97d24-f0cb-4359-9217-59d3c2c2697c",
   "metadata": {},
   "outputs": [
    {
     "name": "stdout",
     "output_type": "stream",
     "text": [
      "The outcome and label columns have been incorrectly encoded for 0 observations\n"
     ]
    }
   ],
   "source": [
    "print('The outcome and label columns have been incorrectly encoded for {:.0f} observations'.format(((news_dataset['outcome'] == 'fake') != (news_dataset['label'] == 1)).sum()))"
   ]
  },
  {
   "cell_type": "markdown",
   "id": "53c19cfd-f989-4ffb-97db-e9356989b2e8",
   "metadata": {
    "id": "53c19cfd-f989-4ffb-97db-e9356989b2e8"
   },
   "source": [
    "## Stemming"
   ]
  },
  {
   "cell_type": "code",
   "execution_count": 14,
   "id": "b6123ec3-13cf-4e78-b082-24b0437f85c4",
   "metadata": {
    "executionInfo": {
     "elapsed": 100,
     "status": "aborted",
     "timestamp": 1639762155471,
     "user": {
      "displayName": "Omoyeni Kemisola",
      "photoUrl": "https://lh3.googleusercontent.com/a/default-user=s64",
      "userId": "14565427243972290298"
     },
     "user_tz": -60
    },
    "id": "b6123ec3-13cf-4e78-b082-24b0437f85c4"
   },
   "outputs": [],
   "source": [
    "port_stem = PorterStemmer()"
   ]
  },
  {
   "cell_type": "code",
   "execution_count": 15,
   "id": "394420a7-9fc7-4416-9041-f963bb4a8d0e",
   "metadata": {
    "executionInfo": {
     "elapsed": 102,
     "status": "aborted",
     "timestamp": 1639762155473,
     "user": {
      "displayName": "Omoyeni Kemisola",
      "photoUrl": "https://lh3.googleusercontent.com/a/default-user=s64",
      "userId": "14565427243972290298"
     },
     "user_tz": -60
    },
    "id": "394420a7-9fc7-4416-9041-f963bb4a8d0e"
   },
   "outputs": [],
   "source": [
    "def stemming(text):\n",
    "    stemmed_content = re.sub('[^a-zA-z]', ' ', text)\n",
    "    stemmed_content = stemmed_content.lower()\n",
    "    stemmed_content = stemmed_content.split()\n",
    "    stemmed_content = [port_stem.stem(word) for word in stemmed_content if not word in stopwords.words('english')]\n",
    "    stemmed_content = ' '.join(stemmed_content)\n",
    "    return stemmed_content\n"
   ]
  },
  {
   "cell_type": "code",
   "execution_count": 16,
   "id": "31c594a6-b791-42e7-9c45-6ff070b9a99c",
   "metadata": {
    "executionInfo": {
     "elapsed": 103,
     "status": "aborted",
     "timestamp": 1639762155475,
     "user": {
      "displayName": "Omoyeni Kemisola",
      "photoUrl": "https://lh3.googleusercontent.com/a/default-user=s64",
      "userId": "14565427243972290298"
     },
     "user_tz": -60
    },
    "id": "31c594a6-b791-42e7-9c45-6ff070b9a99c"
   },
   "outputs": [],
   "source": [
    "news_dataset['text'] = news_dataset['text'].apply(stemming)"
   ]
  },
  {
   "cell_type": "code",
   "execution_count": 18,
   "id": "008d645b-33b0-4f45-b8e3-d3be91cd9fb6",
   "metadata": {
    "executionInfo": {
     "elapsed": 104,
     "status": "aborted",
     "timestamp": 1639762155477,
     "user": {
      "displayName": "Omoyeni Kemisola",
      "photoUrl": "https://lh3.googleusercontent.com/a/default-user=s64",
      "userId": "14565427243972290298"
     },
     "user_tz": -60
    },
    "id": "008d645b-33b0-4f45-b8e3-d3be91cd9fb6"
   },
   "outputs": [
    {
     "name": "stdout",
     "output_type": "stream",
     "text": [
      "ID\n",
      "1    post claim compulsori vacin violat principl bi...\n",
      "2    photo claim person doctor die attend mani tube...\n",
      "3    post video claim protest confin town aranda de...\n",
      "4    death respiratori failur pneumonia regist tube...\n",
      "5    dean colleg biologist euskadi state lot pcr fa...\n",
      "Name: text, dtype: object\n"
     ]
    }
   ],
   "source": [
    "print(news_dataset['text'].iloc[:5])"
   ]
  },
  {
   "cell_type": "code",
   "execution_count": 19,
   "id": "382a45e1-fc2b-49b0-86bc-a82f731e8223",
   "metadata": {
    "executionInfo": {
     "elapsed": 106,
     "status": "aborted",
     "timestamp": 1639762155479,
     "user": {
      "displayName": "Omoyeni Kemisola",
      "photoUrl": "https://lh3.googleusercontent.com/a/default-user=s64",
      "userId": "14565427243972290298"
     },
     "user_tz": -60
    },
    "id": "382a45e1-fc2b-49b0-86bc-a82f731e8223"
   },
   "outputs": [],
   "source": [
    "#separating the data and label\n",
    "X = news_dataset['text'].values\n",
    "Y = news_dataset['label'].values"
   ]
  },
  {
   "cell_type": "markdown",
   "id": "0cba5c1b-92b7-41a2-bd79-620269ca2a1e",
   "metadata": {
    "id": "0cba5c1b-92b7-41a2-bd79-620269ca2a1e"
   },
   "source": [
    "## Converting the textual data into numerical data "
   ]
  },
  {
   "cell_type": "code",
   "execution_count": 20,
   "id": "c1713cf5-3ab3-413a-9c1c-9c6698c49cc6",
   "metadata": {
    "executionInfo": {
     "elapsed": 109,
     "status": "aborted",
     "timestamp": 1639762155485,
     "user": {
      "displayName": "Omoyeni Kemisola",
      "photoUrl": "https://lh3.googleusercontent.com/a/default-user=s64",
      "userId": "14565427243972290298"
     },
     "user_tz": -60
    },
    "id": "c1713cf5-3ab3-413a-9c1c-9c6698c49cc6"
   },
   "outputs": [],
   "source": [
    "# converting the textual data into numerical data\n",
    "vectorizer = TfidfVectorizer()\n",
    "X = vectorizer.fit_transform(X)"
   ]
  },
  {
   "cell_type": "code",
   "execution_count": 21,
   "id": "084e7323-e7b2-420a-84c0-a42a21d031ff",
   "metadata": {},
   "outputs": [
    {
     "data": {
      "text/plain": [
       "['vocabulary.sav']"
      ]
     },
     "execution_count": 21,
     "metadata": {},
     "output_type": "execute_result"
    }
   ],
   "source": [
    "joblib.dump(vectorizer.vocabulary_, 'vocabulary.sav')"
   ]
  },
  {
   "cell_type": "code",
   "execution_count": 22,
   "id": "a6baa53f-d844-4427-8bd7-c97ea9cc62c5",
   "metadata": {
    "executionInfo": {
     "elapsed": 110,
     "status": "aborted",
     "timestamp": 1639762155486,
     "user": {
      "displayName": "Omoyeni Kemisola",
      "photoUrl": "https://lh3.googleusercontent.com/a/default-user=s64",
      "userId": "14565427243972290298"
     },
     "user_tz": -60
    },
    "id": "a6baa53f-d844-4427-8bd7-c97ea9cc62c5"
   },
   "outputs": [
    {
     "name": "stdout",
     "output_type": "stream",
     "text": [
      "  (0, 7491)\t0.2153190934809682\n",
      "  (0, 9565)\t0.1540383074461942\n",
      "  (0, 4402)\t0.27659623742632955\n",
      "  (0, 6935)\t0.16894099566005538\n",
      "  (0, 3170)\t0.2100289664490662\n",
      "  (0, 5421)\t0.21715094906119187\n",
      "  (0, 7613)\t0.21988824594476522\n",
      "  (0, 9022)\t0.14284803447608385\n",
      "  (0, 6654)\t0.2631055911740553\n",
      "  (0, 3083)\t0.2425445504648234\n",
      "  (0, 9318)\t0.10048954719877298\n",
      "  (0, 993)\t0.35145671000173906\n",
      "  (0, 7045)\t0.32721011128151184\n",
      "  (0, 9692)\t0.21948384320102432\n",
      "  (0, 9566)\t0.35145671000173906\n",
      "  (0, 1938)\t0.2887801615399182\n",
      "  (0, 1773)\t0.13051104591846172\n",
      "  (0, 6938)\t0.15485257128509056\n"
     ]
    }
   ],
   "source": [
    "print(X[0])"
   ]
  },
  {
   "cell_type": "markdown",
   "id": "528ebad7-93b5-450d-ba99-4247ab9e7b8a",
   "metadata": {
    "id": "528ebad7-93b5-450d-ba99-4247ab9e7b8a"
   },
   "source": [
    "## Splitting the dataset to training and test data\n"
   ]
  },
  {
   "cell_type": "code",
   "execution_count": 23,
   "id": "6f5757a8-0265-4d28-b2f0-05fc6f2a212e",
   "metadata": {
    "executionInfo": {
     "elapsed": 110,
     "status": "aborted",
     "timestamp": 1639762155487,
     "user": {
      "displayName": "Omoyeni Kemisola",
      "photoUrl": "https://lh3.googleusercontent.com/a/default-user=s64",
      "userId": "14565427243972290298"
     },
     "user_tz": -60
    },
    "id": "6f5757a8-0265-4d28-b2f0-05fc6f2a212e"
   },
   "outputs": [],
   "source": [
    "X_train, X_test, Y_train, Y_test = train_test_split(X, Y, test_size=0.2, stratify=Y, random_state=42)"
   ]
  },
  {
   "cell_type": "markdown",
   "id": "e0d2be81-fc41-43ae-b299-0b810cabf071",
   "metadata": {
    "tags": []
   },
   "source": [
    "## GridSearch CV"
   ]
  },
  {
   "cell_type": "raw",
   "id": "d99ce5e5-87ea-47ac-b4ed-bd9bb50a6dba",
   "metadata": {},
   "source": [
    "mod = SVC(random_state=42)"
   ]
  },
  {
   "cell_type": "raw",
   "id": "dbab6be6-fb8f-483e-bfab-6496e050cfb3",
   "metadata": {},
   "source": [
    "params= {\n",
    "    \"C\":np.arange(0.1, 2, 0.1),\n",
    "    \"gamma\":['scale', 'auto']\n",
    "    #\"max_depth\": np.arange(100, 300, 25),\n",
    "}"
   ]
  },
  {
   "cell_type": "raw",
   "id": "46523f5c-a281-44d5-84bc-e27ab411cd12",
   "metadata": {},
   "source": [
    "mods = GridSearchCV(mod, param_grid=params, n_jobs=-1, verbose=10, cv=5)\n",
    "mods.fit(X_train, Y_train)"
   ]
  },
  {
   "cell_type": "raw",
   "id": "ca565262-f7ce-4203-b1ab-54f64634aa47",
   "metadata": {},
   "source": [
    "mods.best_params_"
   ]
  },
  {
   "cell_type": "raw",
   "id": "aad320f9-ae5d-4573-bcae-c5029a3f1083",
   "metadata": {},
   "source": [
    "mods.best_score_"
   ]
  },
  {
   "cell_type": "markdown",
   "id": "4befaa9a-4034-46ca-8f06-37b2f61ffe9d",
   "metadata": {
    "id": "4befaa9a-4034-46ca-8f06-37b2f61ffe9d",
    "tags": []
   },
   "source": [
    "# Model Selection, Training and Building"
   ]
  },
  {
   "cell_type": "code",
   "execution_count": 24,
   "id": "4a225bd7-2aac-4f74-be46-ab3a161f7d73",
   "metadata": {},
   "outputs": [],
   "source": [
    "models = {\n",
    "    'Logistic Regression':LogisticRegression(random_state=42, C=1.8, multi_class='multinomial', max_iter=100),\n",
    "    'Decision Tree':DecisionTreeClassifier(random_state=42, max_depth=200),\n",
    "    'Random Forest':RandomForestClassifier(n_estimators = 50, random_state=42, max_depth=250),\n",
    "    'Support Vector':SVC(C=1.7, gamma='scale', random_state=42),\n",
    "    'K-Nearest Neighbour': KNeighborsClassifier(n_neighbors=14, weights='distance')\n",
    "}"
   ]
  },
  {
   "cell_type": "code",
   "execution_count": 25,
   "id": "0dec26ad-f3a3-4d79-a139-02fc68396f36",
   "metadata": {},
   "outputs": [],
   "source": [
    "cv3_scores = []\n",
    "cv5_scores = []\n",
    "cv10_scores = []\n",
    "acc = []"
   ]
  },
  {
   "cell_type": "code",
   "execution_count": 26,
   "id": "efad1293-4cc5-4262-bdf5-41c6a392b88f",
   "metadata": {},
   "outputs": [
    {
     "name": "stderr",
     "output_type": "stream",
     "text": [
      "[Parallel(n_jobs=-1)]: Using backend LokyBackend with 12 concurrent workers.\n"
     ]
    },
    {
     "name": "stderr",
     "output_type": "stream",
     "text": [
      "[Parallel(n_jobs=-1)]: Done   3 out of   3 | elapsed:    0.9s finished\n",
      "[Parallel(n_jobs=-1)]: Using backend LokyBackend with 12 concurrent workers.\n",
      "[Parallel(n_jobs=-1)]: Done   5 out of   5 | elapsed:    0.6s finished\n",
      "[Parallel(n_jobs=-1)]: Using backend LokyBackend with 12 concurrent workers.\n",
      "[Parallel(n_jobs=-1)]: Done  10 out of  10 | elapsed:    0.7s finished\n",
      "[Parallel(n_jobs=-1)]: Using backend LokyBackend with 12 concurrent workers.\n",
      "[Parallel(n_jobs=-1)]: Done   3 out of   3 | elapsed:    1.0s finished\n",
      "[Parallel(n_jobs=-1)]: Using backend LokyBackend with 12 concurrent workers.\n",
      "[Parallel(n_jobs=-1)]: Done   5 out of   5 | elapsed:    1.4s finished\n",
      "[Parallel(n_jobs=-1)]: Using backend LokyBackend with 12 concurrent workers.\n",
      "[Parallel(n_jobs=-1)]: Done  10 out of  10 | elapsed:    2.4s finished\n",
      "[Parallel(n_jobs=-1)]: Using backend LokyBackend with 12 concurrent workers.\n",
      "[Parallel(n_jobs=-1)]: Done   3 out of   3 | elapsed:    5.7s finished\n",
      "[Parallel(n_jobs=-1)]: Using backend LokyBackend with 12 concurrent workers.\n",
      "[Parallel(n_jobs=-1)]: Done   5 out of   5 | elapsed:    7.6s finished\n",
      "[Parallel(n_jobs=-1)]: Using backend LokyBackend with 12 concurrent workers.\n",
      "[Parallel(n_jobs=-1)]: Done  10 out of  10 | elapsed:   12.6s finished\n",
      "[Parallel(n_jobs=-1)]: Using backend LokyBackend with 12 concurrent workers.\n",
      "[Parallel(n_jobs=-1)]: Done   3 out of   3 | elapsed:    9.8s finished\n",
      "[Parallel(n_jobs=-1)]: Using backend LokyBackend with 12 concurrent workers.\n",
      "[Parallel(n_jobs=-1)]: Done   5 out of   5 | elapsed:   21.2s finished\n",
      "[Parallel(n_jobs=-1)]: Using backend LokyBackend with 12 concurrent workers.\n",
      "[Parallel(n_jobs=-1)]: Done  10 out of  10 | elapsed:   42.0s finished\n",
      "[Parallel(n_jobs=-1)]: Using backend LokyBackend with 12 concurrent workers.\n",
      "[Parallel(n_jobs=-1)]: Done   3 out of   3 | elapsed:    6.1s finished\n",
      "[Parallel(n_jobs=-1)]: Using backend LokyBackend with 12 concurrent workers.\n",
      "[Parallel(n_jobs=-1)]: Done   5 out of   5 | elapsed:    5.3s finished\n",
      "[Parallel(n_jobs=-1)]: Using backend LokyBackend with 12 concurrent workers.\n",
      "[Parallel(n_jobs=-1)]: Done  10 out of  10 | elapsed:    4.1s finished\n"
     ]
    }
   ],
   "source": [
    "for model in models.values():\n",
    "    scores_3 = cross_val_score(model, X_train, Y_train, cv=3, n_jobs=-1, verbose=1)\n",
    "    cv3_scores.append(round(scores_3.mean()*100, 2))\n",
    "\n",
    "    scores_5 = cross_val_score(model, X_train, Y_train, cv=5, n_jobs=-1, verbose=1)\n",
    "    cv5_scores.append(round(scores_5.mean()*100, 2))\n",
    "\n",
    "    scores_10 = cross_val_score(model, X_train, Y_train, cv=10, n_jobs=-1, verbose=1)\n",
    "    cv10_scores.append(round(scores_10.mean()*100, 2))"
   ]
  },
  {
   "cell_type": "code",
   "execution_count": 27,
   "id": "ab9c712e-350e-4990-8e85-f56d4851126c",
   "metadata": {},
   "outputs": [
    {
     "name": "stdout",
     "output_type": "stream",
     "text": [
      "              precision    recall  f1-score   support\n",
      "\n",
      "           0       0.94      0.93      0.94      1452\n",
      "           1       0.95      0.96      0.95      1946\n",
      "\n",
      "    accuracy                           0.95      3398\n",
      "   macro avg       0.95      0.95      0.95      3398\n",
      "weighted avg       0.95      0.95      0.95      3398\n",
      "\n",
      "              precision    recall  f1-score   support\n",
      "\n",
      "           0       0.87      0.87      0.87      1452\n",
      "           1       0.90      0.91      0.90      1946\n",
      "\n",
      "    accuracy                           0.89      3398\n",
      "   macro avg       0.89      0.89      0.89      3398\n",
      "weighted avg       0.89      0.89      0.89      3398\n",
      "\n",
      "              precision    recall  f1-score   support\n",
      "\n",
      "           0       0.94      0.88      0.91      1452\n",
      "           1       0.92      0.96      0.94      1946\n",
      "\n",
      "    accuracy                           0.93      3398\n",
      "   macro avg       0.93      0.92      0.93      3398\n",
      "weighted avg       0.93      0.93      0.93      3398\n",
      "\n",
      "              precision    recall  f1-score   support\n",
      "\n",
      "           0       0.96      0.95      0.95      1452\n",
      "           1       0.96      0.97      0.96      1946\n",
      "\n",
      "    accuracy                           0.96      3398\n",
      "   macro avg       0.96      0.96      0.96      3398\n",
      "weighted avg       0.96      0.96      0.96      3398\n",
      "\n",
      "              precision    recall  f1-score   support\n",
      "\n",
      "           0       0.92      0.91      0.91      1452\n",
      "           1       0.93      0.94      0.94      1946\n",
      "\n",
      "    accuracy                           0.93      3398\n",
      "   macro avg       0.93      0.92      0.93      3398\n",
      "weighted avg       0.93      0.93      0.93      3398\n",
      "\n"
     ]
    },
    {
     "data": {
      "image/png": "[encoded data removed]",
      "text/plain": [
       "<Figure size 640x480 with 2 Axes>"
      ]
     },
     "metadata": {},
     "output_type": "display_data"
    },
    {
     "data": {
      "image/png": "[encoded data removed]",
      "text/plain": [
       "<Figure size 640x480 with 2 Axes>"
      ]
     },
     "metadata": {},
     "output_type": "display_data"
    },
    {
     "data": {
      "image/png": "[encoded data removed]",
      "text/plain": [
       "<Figure size 640x480 with 2 Axes>"
      ]
     },
     "metadata": {},
     "output_type": "display_data"
    },
    {
     "data": {
      "image/png": "[encoded data removed]",
      "text/plain": [
       "<Figure size 640x480 with 2 Axes>"
      ]
     },
     "metadata": {},
     "output_type": "display_data"
    },
    {
     "data": {
      "image/png": "[encoded data removed]",
      "text/plain": [
       "<Figure size 640x480 with 2 Axes>"
      ]
     },
     "metadata": {},
     "output_type": "display_data"
    }
   ],
   "source": [
    "for model in models.values():\n",
    "    model = model.fit(X_train, Y_train)\n",
    "    y_pred = model.predict(X_test)\n",
    "    acc.append(round(accuracy_score(y_pred, Y_test)*100, 2))\n",
    "    \n",
    "    classification_rep = classification_report(Y_test, y_pred)\n",
    "    print(classification_rep)\n",
    "    \n",
    "    conf_mat= confusion_matrix(Y_test, y_pred, labels=model.classes_)\n",
    "    disp_lrm = ConfusionMatrixDisplay(confusion_matrix=conf_mat, display_labels=model.classes_)\n",
    "    disp_lrm.plot()\n",
    "    #plt.savefig('{}.png'.format(models.keys()));"
   ]
  },
  {
   "cell_type": "code",
   "execution_count": 28,
   "id": "d1ee468f-82d8-4033-8559-82b9532ac366",
   "metadata": {},
   "outputs": [
    {
     "data": {
      "text/html": [
       "<div>\n",
       "<style scoped>\n",
       "    .dataframe tbody tr th:only-of-type {\n",
       "        vertical-align: middle;\n",
       "    }\n",
       "\n",
       "    .dataframe tbody tr th {\n",
       "        vertical-align: top;\n",
       "    }\n",
       "\n",
       "    .dataframe thead th {\n",
       "        text-align: right;\n",
       "    }\n",
       "</style>\n",
       "<table border=\"1\" class=\"dataframe\">\n",
       "  <thead>\n",
       "    <tr style=\"text-align: right;\">\n",
       "      <th></th>\n",
       "      <th>Test Accuracy</th>\n",
       "      <th>3-fold CV Accuracy</th>\n",
       "      <th>5-fold CV Accuracy</th>\n",
       "      <th>10-fold CV Accuracy</th>\n",
       "    </tr>\n",
       "  </thead>\n",
       "  <tbody>\n",
       "    <tr>\n",
       "      <th>Logistic Regression</th>\n",
       "      <td>94.79</td>\n",
       "      <td>93.37</td>\n",
       "      <td>93.80</td>\n",
       "      <td>94.17</td>\n",
       "    </tr>\n",
       "    <tr>\n",
       "      <th>Decision Tree</th>\n",
       "      <td>88.96</td>\n",
       "      <td>86.30</td>\n",
       "      <td>87.69</td>\n",
       "      <td>88.10</td>\n",
       "    </tr>\n",
       "    <tr>\n",
       "      <th>Random Forest</th>\n",
       "      <td>92.76</td>\n",
       "      <td>91.22</td>\n",
       "      <td>92.02</td>\n",
       "      <td>92.13</td>\n",
       "    </tr>\n",
       "    <tr>\n",
       "      <th>Support Vector</th>\n",
       "      <td>95.94</td>\n",
       "      <td>94.12</td>\n",
       "      <td>94.91</td>\n",
       "      <td>95.25</td>\n",
       "    </tr>\n",
       "    <tr>\n",
       "      <th>K-Nearest Neighbour</th>\n",
       "      <td>92.70</td>\n",
       "      <td>91.60</td>\n",
       "      <td>92.22</td>\n",
       "      <td>92.68</td>\n",
       "    </tr>\n",
       "  </tbody>\n",
       "</table>\n",
       "</div>"
      ],
      "text/plain": [
       "                     Test Accuracy  3-fold CV Accuracy  5-fold CV Accuracy  \\\n",
       "Logistic Regression          94.79               93.37               93.80   \n",
       "Decision Tree                88.96               86.30               87.69   \n",
       "Random Forest                92.76               91.22               92.02   \n",
       "Support Vector               95.94               94.12               94.91   \n",
       "K-Nearest Neighbour          92.70               91.60               92.22   \n",
       "\n",
       "                     10-fold CV Accuracy  \n",
       "Logistic Regression                94.17  \n",
       "Decision Tree                      88.10  \n",
       "Random Forest                      92.13  \n",
       "Support Vector                     95.25  \n",
       "K-Nearest Neighbour                92.68  "
      ]
     },
     "execution_count": 28,
     "metadata": {},
     "output_type": "execute_result"
    }
   ],
   "source": [
    "cv_result = pd.DataFrame({'Test Accuracy':acc, '3-fold CV Accuracy':cv3_scores, '5-fold CV Accuracy':cv5_scores, '10-fold CV Accuracy':cv10_scores,},\n",
    "                         index=models.keys())\n",
    "cv_result"
   ]
  },
  {
   "cell_type": "code",
   "execution_count": 29,
   "id": "0dab4741-30a5-4ad7-8855-b6dccd425310",
   "metadata": {},
   "outputs": [],
   "source": [
    "cv_result.to_csv(\"FND Metrics Table.csv\")"
   ]
  },
  {
   "cell_type": "code",
   "execution_count": 30,
   "id": "b4e28301-ac24-424f-a436-072366da8026",
   "metadata": {},
   "outputs": [
    {
     "data": {
      "image/png": "[encoded data removed]",
      "text/plain": [
       "<Figure size 1000x800 with 1 Axes>"
      ]
     },
     "metadata": {},
     "output_type": "display_data"
    }
   ],
   "source": [
    "cv_result[['3-fold CV Accuracy','5-fold CV Accuracy','10-fold CV Accuracy']].plot(kind='bar',figsize=(10, 8))\n",
    "plt.xlabel('Classification Models')\n",
    "plt.ylabel('Accuracy Score [%]')\n",
    "plt.ylim([60, 100])\n",
    "plt.xticks(rotation=0)\n",
    "plt.legend();\n",
    "plt.savefig('cv_score.jpg',  dpi=1200)"
   ]
  },
  {
   "cell_type": "markdown",
   "id": "fa9f0993-5f2e-4889-934b-c37743c382f5",
   "metadata": {
    "id": "fa9f0993-5f2e-4889-934b-c37743c382f5",
    "tags": []
   },
   "source": [
    "### Saving Model"
   ]
  },
  {
   "cell_type": "code",
   "execution_count": 31,
   "id": "dd12cbc5-46e8-4554-8293-5d8d7c50ec69",
   "metadata": {},
   "outputs": [
    {
     "data": {
      "text/plain": [
       "['FND.sav']"
      ]
     },
     "execution_count": 31,
     "metadata": {},
     "output_type": "execute_result"
    }
   ],
   "source": [
    "joblib.dump(models[\"Support Vector\"], \"FND.sav\")"
   ]
  },
  {
   "cell_type": "code",
   "execution_count": null,
   "id": "9fa0034e-2988-40b8-8cd1-7e2a88f8dfe9",
   "metadata": {},
   "outputs": [],
   "source": []
  }
 ],
 "metadata": {
  "colab": {
   "name": "fake_news (1).ipynb",
   "provenance": []
  },
  "interpreter": {
   "hash": "b8fc5aed1e0d1bbffc4f9f23915a5e9112aabca3de3cdb8a1a8e2e7ff859cd97"
  },
  "kernelspec": {
   "display_name": "Python 3 (ipykernel)",
   "language": "python",
   "name": "python3"
  },
  "language_info": {
   "codemirror_mode": {
    "name": "ipython",
    "version": 3
   },
   "file_extension": ".py",
   "mimetype": "text/x-python",
   "name": "python",
   "nbconvert_exporter": "python",
   "pygments_lexer": "ipython3",
   "version": "3.10.12"
  }
 },
 "nbformat": 4,
 "nbformat_minor": 5
}
